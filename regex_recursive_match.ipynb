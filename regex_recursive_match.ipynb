{
 "cells": [
  {
   "cell_type": "markdown",
   "metadata": {},
   "source": [
    "python's built-in *re* module does not support recursive match explicitly, but it can be achieved by regex's positive lookahead.\n",
    "\n",
    "reference: https://www.regular-expressions.info/lookaround.html"
   ]
  },
  {
   "cell_type": "code",
   "execution_count": 3,
   "metadata": {},
   "outputs": [],
   "source": [
    "# little demo to find the binary gap in an integer.\n",
    "# A binary gap within a positive integer N is any maximal sequence of consecutive zeros \n",
    "# that is surrounded by ones at both ends in the binary representation of N.\n",
    "# For example, number 9 has binary representation 1001 and contains a binary gap of length 2. \n",
    "# The number 529 has binary representation 1000010001 and contains two binary gaps: one of length 4 and one of length 3. \n",
    "# The number 20 has binary representation 10100 and contains one binary gap of length 1. \n",
    "# The number 15 has binary representation 1111 and has no binary gaps. \n",
    "# The number 32 has binary representation 100000 and has no binary gaps.\n",
    "import re\n",
    "def find_binary_gap(n):\n",
    "    bin_str = bin(n)[2:]\n",
    "    # note the (?=) pattern here, which is so-called positive lookahead\n",
    "    pattern = r\"(?=(10+1))\"\n",
    "    res = re.findall(pattern, bin_str)\n",
    "    return res"
   ]
  },
  {
   "cell_type": "code",
   "execution_count": 4,
   "metadata": {},
   "outputs": [
    {
     "name": "stdout",
     "output_type": "stream",
     "text": [
      "['1001']\n",
      "['100001', '10001']\n",
      "[]\n",
      "[]\n"
     ]
    }
   ],
   "source": [
    "# test\n",
    "print(find_binary_gap(9))\n",
    "print(find_binary_gap(529))\n",
    "print(find_binary_gap(15))\n",
    "print(find_binary_gap(32))"
   ]
  },
  {
   "cell_type": "code",
   "execution_count": 13,
   "metadata": {},
   "outputs": [
    {
     "name": "stdout",
     "output_type": "stream",
     "text": [
      "['1001', '101', '10001', '100001']\n"
     ]
    }
   ],
   "source": [
    "# this is the way to make int from binary string, by specifying the base=2\n",
    "int_to_test = int(\"0b100101000100001000\", base=2)\n",
    "print(find_binary_gap(int_to_test))"
   ]
  }
 ],
 "metadata": {
  "kernelspec": {
   "display_name": "Python 3",
   "language": "python",
   "name": "python3"
  },
  "language_info": {
   "codemirror_mode": {
    "name": "ipython",
    "version": 3
   },
   "file_extension": ".py",
   "mimetype": "text/x-python",
   "name": "python",
   "nbconvert_exporter": "python",
   "pygments_lexer": "ipython3",
   "version": "3.6.4"
  }
 },
 "nbformat": 4,
 "nbformat_minor": 2
}
