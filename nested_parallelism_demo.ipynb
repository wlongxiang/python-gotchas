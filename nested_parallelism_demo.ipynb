{
 "cells": [
  {
   "cell_type": "markdown",
   "metadata": {},
   "source": [
    "This demo aims to show the very hidden problem of nested parallelism and how to avoid it with the python3 concurrent mdule"
   ]
  },
  {
   "cell_type": "code",
   "execution_count": 1,
   "metadata": {},
   "outputs": [],
   "source": [
    "import numpy as np\n",
    "from multiprocessing.pool import ThreadPool\n",
    "import matplotlib.pyplot as plt\n",
    "import time\n",
    "from concurrent.futures import ThreadPoolExecutor"
   ]
  },
  {
   "cell_type": "code",
   "execution_count": 2,
   "metadata": {},
   "outputs": [
    {
     "name": "stdout",
     "output_type": "stream",
     "text": [
      "(256, 256)\n"
     ]
    },
    {
     "data": {
      "text/plain": [
       "(256, 256)"
      ]
     },
     "execution_count": 2,
     "metadata": {},
     "output_type": "execute_result"
    }
   ],
   "source": [
    "# making a random np array\n",
    "data = np.random.random((256,256))\n",
    "print(data.shape)\n",
    "# making a list of 1024 data array\n",
    "nested_array = [data for i in range(1024)]\n",
    "nested_array[0].shape"
   ]
  },
  {
   "cell_type": "code",
   "execution_count": 3,
   "metadata": {},
   "outputs": [
    {
     "name": "stdout",
     "output_type": "stream",
     "text": [
      "18.816298961639404\n"
     ]
    }
   ],
   "source": [
    "# 46 threads on a 4 core CPU\n",
    "pool = ThreadPool(4)\n",
    "start_time = time.time()\n",
    "ret = pool.map(np.linalg.eig, nested_array)\n",
    "print(time.time()-start_time)"
   ]
  },
  {
   "cell_type": "code",
   "execution_count": 4,
   "metadata": {},
   "outputs": [
    {
     "name": "stdout",
     "output_type": "stream",
     "text": [
      "0.12336301803588867\n"
     ]
    }
   ],
   "source": [
    "new_pool = ThreadPoolExecutor(max_workers=4)\n",
    "start_time = time.time()\n",
    "ret = new_pool.map(np.linalg.eig, nested_array)\n",
    "# print(next(ret))\n",
    "print(time.time()-start_time)"
   ]
  }
 ],
 "metadata": {
  "kernelspec": {
   "display_name": "Python 3",
   "language": "python",
   "name": "python3"
  },
  "language_info": {
   "codemirror_mode": {
    "name": "ipython",
    "version": 3
   },
   "file_extension": ".py",
   "mimetype": "text/x-python",
   "name": "python",
   "nbconvert_exporter": "python",
   "pygments_lexer": "ipython3",
   "version": "3.6.4"
  }
 },
 "nbformat": 4,
 "nbformat_minor": 2
}
